{
  "nbformat": 4,
  "nbformat_minor": 0,
  "metadata": {
    "colab": {
      "name": "DA_miniproject_new.ipynb",
      "provenance": [],
      "collapsed_sections": [],
      "mount_file_id": "1JI7dDqi5H4YDPBuBPsjGPR2oxcoOb6V1",
      "authorship_tag": "ABX9TyNOhEHytPy4aOM0nIlbE+LI",
      "include_colab_link": true
    },
    "kernelspec": {
      "name": "python3",
      "display_name": "Python 3"
    }
  },
  "cells": [
    {
      "cell_type": "markdown",
      "metadata": {
        "id": "view-in-github",
        "colab_type": "text"
      },
      "source": [
        "<a href=\"https://colab.research.google.com/github/Twon99/DA_miniproject/blob/main/DA_miniproject_new.ipynb\" target=\"_parent\"><img src=\"https://colab.research.google.com/assets/colab-badge.svg\" alt=\"Open In Colab\"/></a>"
      ]
    },
    {
      "cell_type": "code",
      "metadata": {
        "colab": {
          "base_uri": "https://localhost:8080/"
        },
        "id": "v7SbwEj_FbN7",
        "outputId": "3ec8b0dd-51bb-4437-988b-28d4bce01d89"
      },
      "source": [
        "!pip install scikit-plot"
      ],
      "execution_count": 1,
      "outputs": [
        {
          "output_type": "stream",
          "text": [
            "Requirement already satisfied: scikit-plot in /usr/local/lib/python3.6/dist-packages (0.3.7)\n",
            "Requirement already satisfied: joblib>=0.10 in /usr/local/lib/python3.6/dist-packages (from scikit-plot) (0.17.0)\n",
            "Requirement already satisfied: scikit-learn>=0.18 in /usr/local/lib/python3.6/dist-packages (from scikit-plot) (0.22.2.post1)\n",
            "Requirement already satisfied: matplotlib>=1.4.0 in /usr/local/lib/python3.6/dist-packages (from scikit-plot) (3.2.2)\n",
            "Requirement already satisfied: scipy>=0.9 in /usr/local/lib/python3.6/dist-packages (from scikit-plot) (1.4.1)\n",
            "Requirement already satisfied: numpy>=1.11.0 in /usr/local/lib/python3.6/dist-packages (from scikit-learn>=0.18->scikit-plot) (1.18.5)\n",
            "Requirement already satisfied: pyparsing!=2.0.4,!=2.1.2,!=2.1.6,>=2.0.1 in /usr/local/lib/python3.6/dist-packages (from matplotlib>=1.4.0->scikit-plot) (2.4.7)\n",
            "Requirement already satisfied: kiwisolver>=1.0.1 in /usr/local/lib/python3.6/dist-packages (from matplotlib>=1.4.0->scikit-plot) (1.3.1)\n",
            "Requirement already satisfied: python-dateutil>=2.1 in /usr/local/lib/python3.6/dist-packages (from matplotlib>=1.4.0->scikit-plot) (2.8.1)\n",
            "Requirement already satisfied: cycler>=0.10 in /usr/local/lib/python3.6/dist-packages (from matplotlib>=1.4.0->scikit-plot) (0.10.0)\n",
            "Requirement already satisfied: six>=1.5 in /usr/local/lib/python3.6/dist-packages (from python-dateutil>=2.1->matplotlib>=1.4.0->scikit-plot) (1.15.0)\n"
          ],
          "name": "stdout"
        }
      ]
    },
    {
      "cell_type": "code",
      "metadata": {
        "id": "Q1do0zPcEnH-"
      },
      "source": [
        "from getEmbeddings import getEmbeddings\n",
        "import matplotlib.pyplot as plt\n",
        "import numpy as np\n",
        "import keras\n",
        "from keras import backend as K\n",
        "from keras.utils import np_utils\n",
        "from keras.models import Sequential\n",
        "from keras.layers import Dense, Dropout, LSTM, Embedding, Input, RepeatVector\n",
        "from keras.optimizers import SGD\n",
        "from sklearn.preprocessing import LabelEncoder\n",
        "from sklearn.model_selection import train_test_split\n",
        "import scikitplot.plotters as skplt\n",
        "import os"
      ],
      "execution_count": 2,
      "outputs": []
    },
    {
      "cell_type": "code",
      "metadata": {
        "id": "cbNwvBrqEv4l"
      },
      "source": [
        "xtr = np.load('./xtr.npy')\n",
        "xte = np.load('./xte.npy')\n",
        "ytr = np.load('./ytr.npy')\n",
        "yte = np.load('./yte.npy')"
      ],
      "execution_count": 20,
      "outputs": []
    },
    {
      "cell_type": "code",
      "metadata": {
        "id": "7bwBsx5RFwwN"
      },
      "source": [
        "def baseline_model():\n",
        "    '''Neural network with 3 hidden layers'''\n",
        "    model = Sequential()\n",
        "    model.add(Dense(256, input_dim=300, activation='relu', kernel_initializer='normal'))\n",
        "    model.add(Dropout(0.3))\n",
        "    model.add(Dense(256, activation='relu', kernel_initializer='normal'))\n",
        "    model.add(Dropout(0.5))\n",
        "    model.add(Dense(80, activation='relu', kernel_initializer='normal'))\n",
        "    model.add(Dense(2, activation=\"softmax\", kernel_initializer='normal'))\n",
        "\n",
        "    # gradient descent\n",
        "    sgd = SGD(lr=0.01, decay=1e-6, momentum=0.9, nesterov=True)\n",
        "    \n",
        "    # configure the learning process of the model\n",
        "    model.compile(loss='categorical_crossentropy', optimizer=sgd, metrics=['accuracy'])\n",
        "    return model"
      ],
      "execution_count": 5,
      "outputs": []
    },
    {
      "cell_type": "code",
      "metadata": {
        "colab": {
          "base_uri": "https://localhost:8080/"
        },
        "id": "bkI7eLZxJ5iR",
        "outputId": "1e075723-d392-4f7d-d951-8a456856e946"
      },
      "source": [
        "model = baseline_model()\n",
        "model.summary()"
      ],
      "execution_count": 6,
      "outputs": [
        {
          "output_type": "stream",
          "text": [
            "Model: \"sequential\"\n",
            "_________________________________________________________________\n",
            "Layer (type)                 Output Shape              Param #   \n",
            "=================================================================\n",
            "dense (Dense)                (None, 256)               77056     \n",
            "_________________________________________________________________\n",
            "dropout (Dropout)            (None, 256)               0         \n",
            "_________________________________________________________________\n",
            "dense_1 (Dense)              (None, 256)               65792     \n",
            "_________________________________________________________________\n",
            "dropout_1 (Dropout)          (None, 256)               0         \n",
            "_________________________________________________________________\n",
            "dense_2 (Dense)              (None, 80)                20560     \n",
            "_________________________________________________________________\n",
            "dense_3 (Dense)              (None, 2)                 162       \n",
            "=================================================================\n",
            "Total params: 163,570\n",
            "Trainable params: 163,570\n",
            "Non-trainable params: 0\n",
            "_________________________________________________________________\n"
          ],
          "name": "stdout"
        }
      ]
    },
    {
      "cell_type": "code",
      "metadata": {
        "colab": {
          "base_uri": "https://localhost:8080/"
        },
        "id": "_yPF8jSRJ-D-",
        "outputId": "30aec0f6-b5d5-4002-de93-2907793d826e"
      },
      "source": [
        "x_train, x_test, y_train, y_test = train_test_split(xtr, ytr, test_size=0.2, random_state=42)\n",
        "label_encoder = LabelEncoder()\n",
        "label_encoder.fit(y_train)"
      ],
      "execution_count": 7,
      "outputs": [
        {
          "output_type": "execute_result",
          "data": {
            "text/plain": [
              "LabelEncoder()"
            ]
          },
          "metadata": {
            "tags": []
          },
          "execution_count": 7
        }
      ]
    },
    {
      "cell_type": "code",
      "metadata": {
        "colab": {
          "base_uri": "https://localhost:8080/"
        },
        "id": "x1WwbVyWKEhL",
        "outputId": "24aaa133-b9b5-4b08-9b98-7c873163364e"
      },
      "source": [
        "encoded_y = np_utils.to_categorical((label_encoder.transform(y_train)))\n",
        "label_encoder.fit(y_test)"
      ],
      "execution_count": 8,
      "outputs": [
        {
          "output_type": "execute_result",
          "data": {
            "text/plain": [
              "LabelEncoder()"
            ]
          },
          "metadata": {
            "tags": []
          },
          "execution_count": 8
        }
      ]
    },
    {
      "cell_type": "code",
      "metadata": {
        "colab": {
          "base_uri": "https://localhost:8080/"
        },
        "id": "lnUKVh0yKKIZ",
        "outputId": "3f3536b5-b467-482f-9e6d-6931056016a0"
      },
      "source": [
        "encoded_y_test = np_utils.to_categorical((label_encoder.transform(y_test)))\n",
        "estimator = model.fit(x_train, encoded_y, epochs=20, batch_size=64)"
      ],
      "execution_count": 9,
      "outputs": [
        {
          "output_type": "stream",
          "text": [
            "Epoch 1/20\n",
            "208/208 [==============================] - 1s 4ms/step - loss: 0.4942 - accuracy: 0.7661\n",
            "Epoch 2/20\n",
            "208/208 [==============================] - 1s 4ms/step - loss: 0.2944 - accuracy: 0.8781\n",
            "Epoch 3/20\n",
            "208/208 [==============================] - 1s 4ms/step - loss: 0.2618 - accuracy: 0.8919\n",
            "Epoch 4/20\n",
            "208/208 [==============================] - 1s 4ms/step - loss: 0.2402 - accuracy: 0.9040\n",
            "Epoch 5/20\n",
            "208/208 [==============================] - 1s 4ms/step - loss: 0.2276 - accuracy: 0.9122\n",
            "Epoch 6/20\n",
            "208/208 [==============================] - 1s 4ms/step - loss: 0.2173 - accuracy: 0.9146\n",
            "Epoch 7/20\n",
            "208/208 [==============================] - 1s 4ms/step - loss: 0.2053 - accuracy: 0.9195\n",
            "Epoch 8/20\n",
            "208/208 [==============================] - 1s 4ms/step - loss: 0.1980 - accuracy: 0.9220\n",
            "Epoch 9/20\n",
            "208/208 [==============================] - 1s 4ms/step - loss: 0.1852 - accuracy: 0.9286\n",
            "Epoch 10/20\n",
            "208/208 [==============================] - 1s 4ms/step - loss: 0.1802 - accuracy: 0.9292\n",
            "Epoch 11/20\n",
            "208/208 [==============================] - 1s 4ms/step - loss: 0.1723 - accuracy: 0.9314\n",
            "Epoch 12/20\n",
            "208/208 [==============================] - 1s 4ms/step - loss: 0.1682 - accuracy: 0.9360\n",
            "Epoch 13/20\n",
            "208/208 [==============================] - 1s 4ms/step - loss: 0.1631 - accuracy: 0.9346\n",
            "Epoch 14/20\n",
            "208/208 [==============================] - 1s 4ms/step - loss: 0.1525 - accuracy: 0.9396\n",
            "Epoch 15/20\n",
            "208/208 [==============================] - 1s 4ms/step - loss: 0.1471 - accuracy: 0.9421\n",
            "Epoch 16/20\n",
            "208/208 [==============================] - 1s 4ms/step - loss: 0.1446 - accuracy: 0.9447\n",
            "Epoch 17/20\n",
            "208/208 [==============================] - 1s 4ms/step - loss: 0.1394 - accuracy: 0.9460\n",
            "Epoch 18/20\n",
            "208/208 [==============================] - 1s 4ms/step - loss: 0.1339 - accuracy: 0.9493\n",
            "Epoch 19/20\n",
            "208/208 [==============================] - 1s 4ms/step - loss: 0.1320 - accuracy: 0.9484\n",
            "Epoch 20/20\n",
            "208/208 [==============================] - 1s 4ms/step - loss: 0.1261 - accuracy: 0.9539\n"
          ],
          "name": "stdout"
        }
      ]
    },
    {
      "cell_type": "code",
      "metadata": {
        "colab": {
          "base_uri": "https://localhost:8080/"
        },
        "id": "4oNCLdH5KNqy",
        "outputId": "a21a28d1-6431-4598-b02e-99712abf6173"
      },
      "source": [
        "print(\"Model Trained!\")\n",
        "score = model.evaluate(x_test, encoded_y_test)"
      ],
      "execution_count": 10,
      "outputs": [
        {
          "output_type": "stream",
          "text": [
            "Model Trained!\n",
            "104/104 [==============================] - 0s 1ms/step - loss: 0.2058 - accuracy: 0.9253\n"
          ],
          "name": "stdout"
        }
      ]
    },
    {
      "cell_type": "code",
      "metadata": {
        "colab": {
          "base_uri": "https://localhost:8080/"
        },
        "id": "Y3lPimB9KTpk",
        "outputId": "81300904-79d1-4483-dcfb-b4319c4775ba"
      },
      "source": [
        "print(\"Accuracy = \" + format(score[1]*100, '.2f') + \"%\") "
      ],
      "execution_count": 12,
      "outputs": [
        {
          "output_type": "stream",
          "text": [
            "Accuracy = 92.53%\n"
          ],
          "name": "stdout"
        }
      ]
    },
    {
      "cell_type": "code",
      "metadata": {
        "id": "Oe98LmMzKWlh"
      },
      "source": [
        "probabs = model.predict(x_test)\n",
        "y_pred = np.argmax(probabs, axis=1)"
      ],
      "execution_count": 15,
      "outputs": []
    },
    {
      "cell_type": "code",
      "metadata": {
        "id": "zSYo-fcIKaxk"
      },
      "source": [
        "def plot_cmat(yte, ypred):\n",
        "    '''Plotting confusion matrix'''\n",
        "    skplt.plot_confusion_matrix(yte, ypred)\n",
        "    plt.show()"
      ],
      "execution_count": 16,
      "outputs": []
    },
    {
      "cell_type": "code",
      "metadata": {
        "colab": {
          "base_uri": "https://localhost:8080/",
          "height": 349
        },
        "id": "aVkALXt9Kl21",
        "outputId": "fccf6a68-3069-4530-b48f-6f99a80048bc"
      },
      "source": [
        "plot_cmat(y_test, y_pred)"
      ],
      "execution_count": 17,
      "outputs": [
        {
          "output_type": "stream",
          "text": [
            "/usr/local/lib/python3.6/dist-packages/sklearn/utils/deprecation.py:87: FutureWarning: Function plot_confusion_matrix is deprecated; This will be removed in v0.4.0. Please use scikitplot.metrics.plot_confusion_matrix instead.\n",
            "  warnings.warn(msg, category=FutureWarning)\n"
          ],
          "name": "stderr"
        },
        {
          "output_type": "display_data",
          "data": {
            "image/png": "[encoded data removed]",
            "text/plain": [
              "<Figure size 432x288 with 2 Axes>"
            ]
          },
          "metadata": {
            "tags": [],
            "needs_background": "light"
          }
        }
      ]
    },
    {
      "cell_type": "code",
      "metadata": {
        "id": "DZZQwExxLo3t"
      },
      "source": [
        ""
      ],
      "execution_count": null,
      "outputs": []
    }
  ]
}